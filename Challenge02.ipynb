{
  "nbformat": 4,
  "nbformat_minor": 0,
  "metadata": {
    "colab": {
      "name": "Copia de Challenge02.ipynb",
      "provenance": [],
      "authorship_tag": "ABX9TyMEGzL4OhVJqrUypl6BtGlQ",
      "include_colab_link": true
    },
    "kernelspec": {
      "name": "python3",
      "display_name": "Python 3"
    },
    "language_info": {
      "name": "python"
    }
  },
  "cells": [
    {
      "cell_type": "markdown",
      "metadata": {
        "id": "view-in-github",
        "colab_type": "text"
      },
      "source": [
        "<a href=\"https://colab.research.google.com/github/vale314/A2/blob/master/Challenge02.ipynb\" target=\"_parent\"><img src=\"https://colab.research.google.com/assets/colab-badge.svg\" alt=\"Open In Colab\"/></a>"
      ]
    },
    {
      "cell_type": "markdown",
      "metadata": {
        "id": "UQAgHSBz2Xkw"
      },
      "source": [
        "## Ingresar nuestro data-set"
      ]
    },
    {
      "cell_type": "code",
      "metadata": {
        "id": "UxnkniTP1DvZ",
        "colab": {
          "base_uri": "https://localhost:8080/"
        },
        "outputId": "75ce9c8c-0598-47ca-9d21-e362285223d9"
      },
      "source": [
        "from google.colab import drive\n",
        "drive.mount('/content/drive')"
      ],
      "execution_count": null,
      "outputs": [
        {
          "output_type": "stream",
          "name": "stdout",
          "text": [
            "Mounted at /content/drive\n"
          ]
        }
      ]
    },
    {
      "cell_type": "code",
      "metadata": {
        "id": "pIOypdZJxboK"
      },
      "source": [
        "# Graficos embebidos.\n",
        "%matplotlib inline"
      ],
      "execution_count": null,
      "outputs": []
    },
    {
      "cell_type": "code",
      "metadata": {
        "id": "AXELlGInxcrI"
      },
      "source": [
        "import numpy as np #importando numpy\n",
        "from scipy import stats # importando scipy.stats\n",
        "import matplotlib.pyplot as plt # importando matplotlib\n",
        "import seaborn as sns # importando seaborn\n",
        "\n",
        "# parámetros estéticos de seaborn\n",
        "sns.set_palette(\"deep\", desat=.6)\n",
        "sns.set_context(rc={\"figure.figsize\": (8, 4)})"
      ],
      "execution_count": null,
      "outputs": []
    },
    {
      "cell_type": "code",
      "metadata": {
        "id": "p3-vmiwexf99"
      },
      "source": [
        "# Trabajando con una ruta relativa\n",
        "path = './drive/MyDrive/CUCEI/ML-COURSE-JUAN/Students/' \n",
        "\n",
        "# Colocamos en una variable el archivo a trabajar\n",
        "archivo = 'StudentsPerformance.csv'"
      ],
      "execution_count": null,
      "outputs": []
    },
    {
      "cell_type": "markdown",
      "metadata": {
        "id": "jXfQSGp-2e2T"
      },
      "source": [
        "--- \n",
        "#### Solo correr para comprobar archivos"
      ]
    },
    {
      "cell_type": "code",
      "metadata": {
        "id": "5-46W9Cmzn9l"
      },
      "source": [
        "# Paquete requerido para listar los archivos del directorio\n",
        "from os import listdir"
      ],
      "execution_count": null,
      "outputs": []
    },
    {
      "cell_type": "code",
      "metadata": {
        "id": "6Fs6k6-yzTIo"
      },
      "source": [
        "import pandas as pd"
      ],
      "execution_count": null,
      "outputs": []
    },
    {
      "cell_type": "code",
      "metadata": {
        "id": "u7Rb7da0zyW9"
      },
      "source": [
        "Files = []\n",
        "for File in listdir(path):\n",
        "    # Escribir la RUTA COMPLETA de cada archivo\n",
        "    Files.append(File)"
      ],
      "execution_count": null,
      "outputs": []
    },
    {
      "cell_type": "code",
      "metadata": {
        "colab": {
          "base_uri": "https://localhost:8080/"
        },
        "id": "slpURVf9zzry",
        "outputId": "87ab44dc-7d71-474f-e7aa-913c0177580b"
      },
      "source": [
        "# Mostramos los archivos del directorio que hemos decidido trabajar\n",
        "Files"
      ],
      "execution_count": null,
      "outputs": [
        {
          "output_type": "execute_result",
          "data": {
            "text/plain": [
              "['StudentsPerformance.csv']"
            ]
          },
          "metadata": {},
          "execution_count": 8
        }
      ]
    },
    {
      "cell_type": "markdown",
      "metadata": {
        "id": "hM4OaVZu2nKH"
      },
      "source": [
        "---\n"
      ]
    },
    {
      "cell_type": "markdown",
      "metadata": {
        "id": "KU0DvtHt2q-Z"
      },
      "source": [
        "### Abrir Archivo"
      ]
    },
    {
      "cell_type": "code",
      "metadata": {
        "id": "ph6wC3P-B6--"
      },
      "source": [
        "df = pd.read_csv(path+archivo, index_col=0)"
      ],
      "execution_count": null,
      "outputs": []
    },
    {
      "cell_type": "code",
      "metadata": {
        "colab": {
          "base_uri": "https://localhost:8080/"
        },
        "id": "EgFgu2AhzsBA",
        "outputId": "fdd823a5-82e8-4144-d912-455d7b85bab5"
      },
      "source": [
        "df.shape"
      ],
      "execution_count": null,
      "outputs": [
        {
          "output_type": "execute_result",
          "data": {
            "text/plain": [
              "(1000, 7)"
            ]
          },
          "metadata": {},
          "execution_count": 10
        }
      ]
    },
    {
      "cell_type": "markdown",
      "metadata": {
        "id": "Qi9so5sr24cU"
      },
      "source": [
        "##### La forma de nuestro data set es de 1000c x 7f"
      ]
    },
    {
      "cell_type": "markdown",
      "metadata": {
        "id": "ongJUZRR3PuI"
      },
      "source": [
        "### Ver los datos"
      ]
    },
    {
      "cell_type": "code",
      "metadata": {
        "colab": {
          "base_uri": "https://localhost:8080/",
          "height": 235
        },
        "id": "nH4AyE4p8Wtn",
        "outputId": "0d3deb77-a091-48d0-f142-a8efa5f69a52"
      },
      "source": [
        "df.head()"
      ],
      "execution_count": null,
      "outputs": [
        {
          "output_type": "execute_result",
          "data": {
            "text/html": [
              "<div>\n",
              "<style scoped>\n",
              "    .dataframe tbody tr th:only-of-type {\n",
              "        vertical-align: middle;\n",
              "    }\n",
              "\n",
              "    .dataframe tbody tr th {\n",
              "        vertical-align: top;\n",
              "    }\n",
              "\n",
              "    .dataframe thead th {\n",
              "        text-align: right;\n",
              "    }\n",
              "</style>\n",
              "<table border=\"1\" class=\"dataframe\">\n",
              "  <thead>\n",
              "    <tr style=\"text-align: right;\">\n",
              "      <th></th>\n",
              "      <th>race/ethnicity</th>\n",
              "      <th>parental level of education</th>\n",
              "      <th>lunch</th>\n",
              "      <th>test preparation course</th>\n",
              "      <th>math score</th>\n",
              "      <th>reading score</th>\n",
              "      <th>writing score</th>\n",
              "    </tr>\n",
              "    <tr>\n",
              "      <th>gender</th>\n",
              "      <th></th>\n",
              "      <th></th>\n",
              "      <th></th>\n",
              "      <th></th>\n",
              "      <th></th>\n",
              "      <th></th>\n",
              "      <th></th>\n",
              "    </tr>\n",
              "  </thead>\n",
              "  <tbody>\n",
              "    <tr>\n",
              "      <th>female</th>\n",
              "      <td>group B</td>\n",
              "      <td>bachelor's degree</td>\n",
              "      <td>standard</td>\n",
              "      <td>none</td>\n",
              "      <td>72</td>\n",
              "      <td>72</td>\n",
              "      <td>74</td>\n",
              "    </tr>\n",
              "    <tr>\n",
              "      <th>female</th>\n",
              "      <td>group C</td>\n",
              "      <td>some college</td>\n",
              "      <td>standard</td>\n",
              "      <td>completed</td>\n",
              "      <td>69</td>\n",
              "      <td>90</td>\n",
              "      <td>88</td>\n",
              "    </tr>\n",
              "    <tr>\n",
              "      <th>female</th>\n",
              "      <td>group B</td>\n",
              "      <td>master's degree</td>\n",
              "      <td>standard</td>\n",
              "      <td>none</td>\n",
              "      <td>90</td>\n",
              "      <td>95</td>\n",
              "      <td>93</td>\n",
              "    </tr>\n",
              "    <tr>\n",
              "      <th>male</th>\n",
              "      <td>group A</td>\n",
              "      <td>associate's degree</td>\n",
              "      <td>free/reduced</td>\n",
              "      <td>none</td>\n",
              "      <td>47</td>\n",
              "      <td>57</td>\n",
              "      <td>44</td>\n",
              "    </tr>\n",
              "    <tr>\n",
              "      <th>male</th>\n",
              "      <td>group C</td>\n",
              "      <td>some college</td>\n",
              "      <td>standard</td>\n",
              "      <td>none</td>\n",
              "      <td>76</td>\n",
              "      <td>78</td>\n",
              "      <td>75</td>\n",
              "    </tr>\n",
              "  </tbody>\n",
              "</table>\n",
              "</div>"
            ],
            "text/plain": [
              "       race/ethnicity parental level of education  ... reading score writing score\n",
              "gender                                             ...                            \n",
              "female        group B           bachelor's degree  ...            72            74\n",
              "female        group C                some college  ...            90            88\n",
              "female        group B             master's degree  ...            95            93\n",
              "male          group A          associate's degree  ...            57            44\n",
              "male          group C                some college  ...            78            75\n",
              "\n",
              "[5 rows x 7 columns]"
            ]
          },
          "metadata": {},
          "execution_count": 11
        }
      ]
    },
    {
      "cell_type": "markdown",
      "metadata": {
        "id": "tnunnIeQ3Xbw"
      },
      "source": [
        "### Ver Estado De Datos"
      ]
    },
    {
      "cell_type": "code",
      "metadata": {
        "colab": {
          "base_uri": "https://localhost:8080/",
          "height": 390
        },
        "id": "vhM5i2lWzNso",
        "outputId": "8421ed62-e689-4aab-e7eb-571aabed7642"
      },
      "source": [
        "df.describe(include='all')"
      ],
      "execution_count": null,
      "outputs": [
        {
          "output_type": "execute_result",
          "data": {
            "text/html": [
              "<div>\n",
              "<style scoped>\n",
              "    .dataframe tbody tr th:only-of-type {\n",
              "        vertical-align: middle;\n",
              "    }\n",
              "\n",
              "    .dataframe tbody tr th {\n",
              "        vertical-align: top;\n",
              "    }\n",
              "\n",
              "    .dataframe thead th {\n",
              "        text-align: right;\n",
              "    }\n",
              "</style>\n",
              "<table border=\"1\" class=\"dataframe\">\n",
              "  <thead>\n",
              "    <tr style=\"text-align: right;\">\n",
              "      <th></th>\n",
              "      <th>race/ethnicity</th>\n",
              "      <th>parental level of education</th>\n",
              "      <th>lunch</th>\n",
              "      <th>test preparation course</th>\n",
              "      <th>math score</th>\n",
              "      <th>reading score</th>\n",
              "      <th>writing score</th>\n",
              "    </tr>\n",
              "  </thead>\n",
              "  <tbody>\n",
              "    <tr>\n",
              "      <th>count</th>\n",
              "      <td>1000</td>\n",
              "      <td>1000</td>\n",
              "      <td>1000</td>\n",
              "      <td>1000</td>\n",
              "      <td>1000.00000</td>\n",
              "      <td>1000.000000</td>\n",
              "      <td>1000.000000</td>\n",
              "    </tr>\n",
              "    <tr>\n",
              "      <th>unique</th>\n",
              "      <td>5</td>\n",
              "      <td>6</td>\n",
              "      <td>2</td>\n",
              "      <td>2</td>\n",
              "      <td>NaN</td>\n",
              "      <td>NaN</td>\n",
              "      <td>NaN</td>\n",
              "    </tr>\n",
              "    <tr>\n",
              "      <th>top</th>\n",
              "      <td>group C</td>\n",
              "      <td>some college</td>\n",
              "      <td>standard</td>\n",
              "      <td>none</td>\n",
              "      <td>NaN</td>\n",
              "      <td>NaN</td>\n",
              "      <td>NaN</td>\n",
              "    </tr>\n",
              "    <tr>\n",
              "      <th>freq</th>\n",
              "      <td>319</td>\n",
              "      <td>226</td>\n",
              "      <td>645</td>\n",
              "      <td>642</td>\n",
              "      <td>NaN</td>\n",
              "      <td>NaN</td>\n",
              "      <td>NaN</td>\n",
              "    </tr>\n",
              "    <tr>\n",
              "      <th>mean</th>\n",
              "      <td>NaN</td>\n",
              "      <td>NaN</td>\n",
              "      <td>NaN</td>\n",
              "      <td>NaN</td>\n",
              "      <td>66.08900</td>\n",
              "      <td>69.169000</td>\n",
              "      <td>68.054000</td>\n",
              "    </tr>\n",
              "    <tr>\n",
              "      <th>std</th>\n",
              "      <td>NaN</td>\n",
              "      <td>NaN</td>\n",
              "      <td>NaN</td>\n",
              "      <td>NaN</td>\n",
              "      <td>15.16308</td>\n",
              "      <td>14.600192</td>\n",
              "      <td>15.195657</td>\n",
              "    </tr>\n",
              "    <tr>\n",
              "      <th>min</th>\n",
              "      <td>NaN</td>\n",
              "      <td>NaN</td>\n",
              "      <td>NaN</td>\n",
              "      <td>NaN</td>\n",
              "      <td>0.00000</td>\n",
              "      <td>17.000000</td>\n",
              "      <td>10.000000</td>\n",
              "    </tr>\n",
              "    <tr>\n",
              "      <th>25%</th>\n",
              "      <td>NaN</td>\n",
              "      <td>NaN</td>\n",
              "      <td>NaN</td>\n",
              "      <td>NaN</td>\n",
              "      <td>57.00000</td>\n",
              "      <td>59.000000</td>\n",
              "      <td>57.750000</td>\n",
              "    </tr>\n",
              "    <tr>\n",
              "      <th>50%</th>\n",
              "      <td>NaN</td>\n",
              "      <td>NaN</td>\n",
              "      <td>NaN</td>\n",
              "      <td>NaN</td>\n",
              "      <td>66.00000</td>\n",
              "      <td>70.000000</td>\n",
              "      <td>69.000000</td>\n",
              "    </tr>\n",
              "    <tr>\n",
              "      <th>75%</th>\n",
              "      <td>NaN</td>\n",
              "      <td>NaN</td>\n",
              "      <td>NaN</td>\n",
              "      <td>NaN</td>\n",
              "      <td>77.00000</td>\n",
              "      <td>79.000000</td>\n",
              "      <td>79.000000</td>\n",
              "    </tr>\n",
              "    <tr>\n",
              "      <th>max</th>\n",
              "      <td>NaN</td>\n",
              "      <td>NaN</td>\n",
              "      <td>NaN</td>\n",
              "      <td>NaN</td>\n",
              "      <td>100.00000</td>\n",
              "      <td>100.000000</td>\n",
              "      <td>100.000000</td>\n",
              "    </tr>\n",
              "  </tbody>\n",
              "</table>\n",
              "</div>"
            ],
            "text/plain": [
              "       race/ethnicity parental level of education  ... reading score writing score\n",
              "count            1000                        1000  ...   1000.000000   1000.000000\n",
              "unique              5                           6  ...           NaN           NaN\n",
              "top           group C                some college  ...           NaN           NaN\n",
              "freq              319                         226  ...           NaN           NaN\n",
              "mean              NaN                         NaN  ...     69.169000     68.054000\n",
              "std               NaN                         NaN  ...     14.600192     15.195657\n",
              "min               NaN                         NaN  ...     17.000000     10.000000\n",
              "25%               NaN                         NaN  ...     59.000000     57.750000\n",
              "50%               NaN                         NaN  ...     70.000000     69.000000\n",
              "75%               NaN                         NaN  ...     79.000000     79.000000\n",
              "max               NaN                         NaN  ...    100.000000    100.000000\n",
              "\n",
              "[11 rows x 7 columns]"
            ]
          },
          "metadata": {},
          "execution_count": 12
        }
      ]
    },
    {
      "cell_type": "markdown",
      "metadata": {
        "id": "eocbYWxW3ejm"
      },
      "source": [
        "##### Los datos Race/Ethicity son: 1000, unicos: 5, el mas usado es group c con una frecuencia de 319, para todos NaN son categoricos."
      ]
    },
    {
      "cell_type": "markdown",
      "metadata": {
        "id": "7L4o60T19CVH"
      },
      "source": [
        "### Mostrar todos los columnas\n"
      ]
    },
    {
      "cell_type": "code",
      "metadata": {
        "colab": {
          "base_uri": "https://localhost:8080/"
        },
        "id": "CJrgtlZu7Bam",
        "outputId": "9f950f76-9395-4f0b-a7e8-63969254498d"
      },
      "source": [
        "for c in df.columns:\n",
        "  print(c)"
      ],
      "execution_count": null,
      "outputs": [
        {
          "output_type": "stream",
          "text": [
            "race/ethnicity\n",
            "parental level of education\n",
            "lunch\n",
            "test preparation course\n",
            "math score\n",
            "reading score\n",
            "writing score\n"
          ],
          "name": "stdout"
        }
      ]
    },
    {
      "cell_type": "markdown",
      "metadata": {
        "id": "zOkD71xsBVsB"
      },
      "source": [
        "---"
      ]
    },
    {
      "cell_type": "markdown",
      "metadata": {
        "id": "LbQ1KMyp-Jb_"
      },
      "source": [
        "### Histograma de  Lunch"
      ]
    },
    {
      "cell_type": "code",
      "metadata": {
        "colab": {
          "base_uri": "https://localhost:8080/",
          "height": 283
        },
        "id": "2Ry53qecrnK2",
        "outputId": "1a6e456f-1e17-4c95-9ec1-ab2246fe6005"
      },
      "source": [
        "df['lunch'].hist()"
      ],
      "execution_count": null,
      "outputs": [
        {
          "output_type": "execute_result",
          "data": {
            "text/plain": [
              "<matplotlib.axes._subplots.AxesSubplot at 0x7f04031920d0>"
            ]
          },
          "metadata": {},
          "execution_count": 37
        },
        {
          "output_type": "display_data",
          "data": {
            "image/png": "[encoded data removed]",
            "text/plain": [
              "<Figure size 432x288 with 1 Axes>"
            ]
          },
          "metadata": {
            "needs_background": "light"
          }
        }
      ]
    },
    {
      "cell_type": "markdown",
      "metadata": {
        "id": "6jbX1K7D-PiA"
      },
      "source": [
        "### Histograma De Math Score [Discretizacion]"
      ]
    },
    {
      "cell_type": "code",
      "metadata": {
        "colab": {
          "base_uri": "https://localhost:8080/",
          "height": 283
        },
        "id": "b_foFVH-sF4o",
        "outputId": "0fc632a4-491f-4982-9151-9c20e6ddbbd9"
      },
      "source": [
        "df['math score'].hist()"
      ],
      "execution_count": null,
      "outputs": [
        {
          "output_type": "execute_result",
          "data": {
            "text/plain": [
              "<matplotlib.axes._subplots.AxesSubplot at 0x7f040310bed0>"
            ]
          },
          "metadata": {},
          "execution_count": 38
        },
        {
          "output_type": "display_data",
          "data": {
            "image/png": "[encoded data removed]",
            "text/plain": [
              "<Figure size 432x288 with 1 Axes>"
            ]
          },
          "metadata": {
            "needs_background": "light"
          }
        }
      ]
    },
    {
      "cell_type": "code",
      "metadata": {
        "id": "2nkKkD1a4lMW"
      },
      "source": [
        "pd.qcut(df['ext price'], q=4)\n"
      ],
      "execution_count": null,
      "outputs": []
    },
    {
      "cell_type": "markdown",
      "metadata": {
        "id": "O7TjPuMf-61e"
      },
      "source": [
        "### Histograma De Race"
      ]
    },
    {
      "cell_type": "code",
      "metadata": {
        "colab": {
          "base_uri": "https://localhost:8080/",
          "height": 283
        },
        "id": "rc_rsPGDuuza",
        "outputId": "f332e1a5-df55-417a-d618-c26023a55b9b"
      },
      "source": [
        "df['race/ethnicity'].hist()"
      ],
      "execution_count": null,
      "outputs": [
        {
          "output_type": "execute_result",
          "data": {
            "text/plain": [
              "<matplotlib.axes._subplots.AxesSubplot at 0x7f0403090210>"
            ]
          },
          "metadata": {},
          "execution_count": 39
        },
        {
          "output_type": "display_data",
          "data": {
            "image/png": "[encoded data removed]",
            "text/plain": [
              "<Figure size 432x288 with 1 Axes>"
            ]
          },
          "metadata": {
            "needs_background": "light"
          }
        }
      ]
    },
    {
      "cell_type": "markdown",
      "metadata": {
        "id": "rg78UoDwAX4a"
      },
      "source": [
        "### Histograma de Preparacion"
      ]
    },
    {
      "cell_type": "code",
      "metadata": {
        "colab": {
          "base_uri": "https://localhost:8080/",
          "height": 283
        },
        "id": "MVbPzhKJux3L",
        "outputId": "227b5aa3-fc5b-4d51-9f97-1fa9d108c34f"
      },
      "source": [
        "df['test preparation course'].hist()"
      ],
      "execution_count": null,
      "outputs": [
        {
          "output_type": "execute_result",
          "data": {
            "text/plain": [
              "<matplotlib.axes._subplots.AxesSubplot at 0x7f0402ffd490>"
            ]
          },
          "metadata": {},
          "execution_count": 40
        },
        {
          "output_type": "display_data",
          "data": {
            "image/png": "[encoded data removed]",
            "text/plain": [
              "<Figure size 432x288 with 1 Axes>"
            ]
          },
          "metadata": {
            "needs_background": "light"
          }
        }
      ]
    },
    {
      "cell_type": "markdown",
      "metadata": {
        "id": "zOTFikkcAxiy"
      },
      "source": [
        "### Histograma De Reading Score [Discretizacion (20)]"
      ]
    },
    {
      "cell_type": "code",
      "metadata": {
        "colab": {
          "base_uri": "https://localhost:8080/",
          "height": 283
        },
        "id": "uhpQd0F0vOXk",
        "outputId": "624cf0c3-ba60-403b-c7f3-e8bac7b1e616"
      },
      "source": [
        "df['reading score'].hist()"
      ],
      "execution_count": null,
      "outputs": [
        {
          "output_type": "execute_result",
          "data": {
            "text/plain": [
              "<matplotlib.axes._subplots.AxesSubplot at 0x7f0402f86850>"
            ]
          },
          "metadata": {},
          "execution_count": 41
        },
        {
          "output_type": "display_data",
          "data": {
            "image/png": "[encoded data removed]",
            "text/plain": [
              "<Figure size 432x288 with 1 Axes>"
            ]
          },
          "metadata": {
            "needs_background": "light"
          }
        }
      ]
    },
    {
      "cell_type": "markdown",
      "metadata": {
        "id": "n9PoYpg7BD5m"
      },
      "source": [
        "### Histograma De Parental Level Of Education"
      ]
    },
    {
      "cell_type": "code",
      "metadata": {
        "id": "zcyX7xSl0c0L",
        "colab": {
          "base_uri": "https://localhost:8080/",
          "height": 500
        },
        "outputId": "e47cc549-f852-422c-e8ea-cd2f18c012f7"
      },
      "source": [
        "plt.subplot_tool()\n",
        "plt.subplots_adjust(left=None, bottom=None, right=2, top=None, wspace=3, hspace=4)\n",
        "df['parental level of education'].hist()"
      ],
      "execution_count": null,
      "outputs": [
        {
          "output_type": "execute_result",
          "data": {
            "text/plain": [
              "<matplotlib.axes._subplots.AxesSubplot at 0x7f03f6027810>"
            ]
          },
          "metadata": {},
          "execution_count": 60
        },
        {
          "output_type": "display_data",
          "data": {
            "image/png": "[encoded data removed]",
            "text/plain": [
              "<Figure size 432x288 with 1 Axes>"
            ]
          },
          "metadata": {
            "needs_background": "light"
          }
        },
        {
          "output_type": "display_data",
          "data": {
            "image/png": "[encoded data removed]",
            "text/plain": [
              "<Figure size 432x216 with 7 Axes>"
            ]
          },
          "metadata": {}
        }
      ]
    },
    {
      "cell_type": "markdown",
      "metadata": {
        "id": "YwNzb1d2BMeu"
      },
      "source": [
        "### Histograma Writing Score [Discretizacion (20)]"
      ]
    },
    {
      "cell_type": "code",
      "metadata": {
        "colab": {
          "base_uri": "https://localhost:8080/",
          "height": 283
        },
        "id": "os_YTe88vVW4",
        "outputId": "cc29a086-cea6-4de5-b11b-a309f9da22e1"
      },
      "source": [
        "df['writing score'].hist()"
      ],
      "execution_count": null,
      "outputs": [
        {
          "output_type": "execute_result",
          "data": {
            "text/plain": [
              "<matplotlib.axes._subplots.AxesSubplot at 0x7f0402f0ab10>"
            ]
          },
          "metadata": {},
          "execution_count": 42
        },
        {
          "output_type": "display_data",
          "data": {
            "image/png": "[encoded data removed]",
            "text/plain": [
              "<Figure size 432x288 with 1 Axes>"
            ]
          },
          "metadata": {
            "needs_background": "light"
          }
        }
      ]
    },
    {
      "cell_type": "markdown",
      "metadata": {
        "id": "htvnn6LGCuaI"
      },
      "source": [
        "---\n",
        "\n",
        "### Diagrama De Dispersión "
      ]
    },
    {
      "cell_type": "code",
      "metadata": {
        "colab": {
          "base_uri": "https://localhost:8080/",
          "height": 574
        },
        "id": "iDnaqpK7vZyo",
        "outputId": "5d8b073d-aac7-45bb-eae5-963e6e944907"
      },
      "source": [
        "from pandas.plotting import scatter_matrix\n",
        "\n",
        "scatter_matrix(df, alpha=0.2, figsize=(6, 6), diagonal='kde')"
      ],
      "execution_count": null,
      "outputs": [
        {
          "output_type": "execute_result",
          "data": {
            "text/plain": [
              "array([[<matplotlib.axes._subplots.AxesSubplot object at 0x7f03f65488d0>,\n",
              "        <matplotlib.axes._subplots.AxesSubplot object at 0x7f03f683bcd0>,\n",
              "        <matplotlib.axes._subplots.AxesSubplot object at 0x7f0403409dd0>],\n",
              "       [<matplotlib.axes._subplots.AxesSubplot object at 0x7f03f699afd0>,\n",
              "        <matplotlib.axes._subplots.AxesSubplot object at 0x7f03f68310d0>,\n",
              "        <matplotlib.axes._subplots.AxesSubplot object at 0x7f03f6a107d0>],\n",
              "       [<matplotlib.axes._subplots.AxesSubplot object at 0x7f03f6a9b8d0>,\n",
              "        <matplotlib.axes._subplots.AxesSubplot object at 0x7f03f629c850>,\n",
              "        <matplotlib.axes._subplots.AxesSubplot object at 0x7f03f629c890>]],\n",
              "      dtype=object)"
            ]
          },
          "metadata": {},
          "execution_count": 61
        },
        {
          "output_type": "display_data",
          "data": {
            "image/png": "[encoded data removed]",
            "text/plain": [
              "<Figure size 432x432 with 9 Axes>"
            ]
          },
          "metadata": {
            "needs_background": "light"
          }
        }
      ]
    },
    {
      "cell_type": "markdown",
      "metadata": {
        "id": "ppO6EnIRCZaU"
      },
      "source": [
        "###Crear Nuevo DataFrama con Discretizacion\n",
        "\n",
        "\n"
      ]
    },
    {
      "cell_type": "code",
      "metadata": {
        "id": "aTHnmfGovpoX"
      },
      "source": [
        "dfC = pd.DataFrame()"
      ],
      "execution_count": null,
      "outputs": []
    },
    {
      "cell_type": "code",
      "metadata": {
        "id": "_zxB3ho1wLCj"
      },
      "source": [
        "dfC['race/ethnicity'] = df['race/ethnicity']\n",
        "dfC['parental level of education'] = df['parental level of education']\n",
        "dfC['lunch'] = df['lunch']\n",
        "dfC['test preparation course'] = df['test preparation course']"
      ],
      "execution_count": null,
      "outputs": []
    },
    {
      "cell_type": "code",
      "metadata": {
        "id": "gBPMjeMxBu9A",
        "colab": {
          "base_uri": "https://localhost:8080/",
          "height": 235
        },
        "outputId": "06afd2c8-38de-417c-be2b-d7556035eccb"
      },
      "source": [
        "dfC['math score'] = pd.qcut(df['math score'], q=4)\n",
        "dfC['reading score'] = pd.qcut(df['reading score'], q=4)\n",
        "dfC['writing score'] = pd.qcut(df['writing score'], q=4)\n",
        "\n",
        "dfC.head()"
      ],
      "execution_count": null,
      "outputs": [
        {
          "output_type": "execute_result",
          "data": {
            "text/html": [
              "<div>\n",
              "<style scoped>\n",
              "    .dataframe tbody tr th:only-of-type {\n",
              "        vertical-align: middle;\n",
              "    }\n",
              "\n",
              "    .dataframe tbody tr th {\n",
              "        vertical-align: top;\n",
              "    }\n",
              "\n",
              "    .dataframe thead th {\n",
              "        text-align: right;\n",
              "    }\n",
              "</style>\n",
              "<table border=\"1\" class=\"dataframe\">\n",
              "  <thead>\n",
              "    <tr style=\"text-align: right;\">\n",
              "      <th></th>\n",
              "      <th>race/ethnicity</th>\n",
              "      <th>parental level of education</th>\n",
              "      <th>lunch</th>\n",
              "      <th>test preparation course</th>\n",
              "      <th>quantile_ex_1</th>\n",
              "      <th>reading score</th>\n",
              "      <th>writing score</th>\n",
              "      <th>math score</th>\n",
              "    </tr>\n",
              "    <tr>\n",
              "      <th>gender</th>\n",
              "      <th></th>\n",
              "      <th></th>\n",
              "      <th></th>\n",
              "      <th></th>\n",
              "      <th></th>\n",
              "      <th></th>\n",
              "      <th></th>\n",
              "      <th></th>\n",
              "    </tr>\n",
              "  </thead>\n",
              "  <tbody>\n",
              "    <tr>\n",
              "      <th>female</th>\n",
              "      <td>group B</td>\n",
              "      <td>bachelor's degree</td>\n",
              "      <td>standard</td>\n",
              "      <td>none</td>\n",
              "      <td>(66.0, 77.0]</td>\n",
              "      <td>(70.0, 79.0]</td>\n",
              "      <td>(69.0, 79.0]</td>\n",
              "      <td>(66.0, 77.0]</td>\n",
              "    </tr>\n",
              "    <tr>\n",
              "      <th>female</th>\n",
              "      <td>group C</td>\n",
              "      <td>some college</td>\n",
              "      <td>standard</td>\n",
              "      <td>completed</td>\n",
              "      <td>(66.0, 77.0]</td>\n",
              "      <td>(79.0, 100.0]</td>\n",
              "      <td>(79.0, 100.0]</td>\n",
              "      <td>(66.0, 77.0]</td>\n",
              "    </tr>\n",
              "    <tr>\n",
              "      <th>female</th>\n",
              "      <td>group B</td>\n",
              "      <td>master's degree</td>\n",
              "      <td>standard</td>\n",
              "      <td>none</td>\n",
              "      <td>(77.0, 100.0]</td>\n",
              "      <td>(79.0, 100.0]</td>\n",
              "      <td>(79.0, 100.0]</td>\n",
              "      <td>(77.0, 100.0]</td>\n",
              "    </tr>\n",
              "    <tr>\n",
              "      <th>male</th>\n",
              "      <td>group A</td>\n",
              "      <td>associate's degree</td>\n",
              "      <td>free/reduced</td>\n",
              "      <td>none</td>\n",
              "      <td>(-0.001, 57.0]</td>\n",
              "      <td>(16.999, 59.0]</td>\n",
              "      <td>(9.999, 57.75]</td>\n",
              "      <td>(-0.001, 57.0]</td>\n",
              "    </tr>\n",
              "    <tr>\n",
              "      <th>male</th>\n",
              "      <td>group C</td>\n",
              "      <td>some college</td>\n",
              "      <td>standard</td>\n",
              "      <td>none</td>\n",
              "      <td>(66.0, 77.0]</td>\n",
              "      <td>(70.0, 79.0]</td>\n",
              "      <td>(69.0, 79.0]</td>\n",
              "      <td>(66.0, 77.0]</td>\n",
              "    </tr>\n",
              "  </tbody>\n",
              "</table>\n",
              "</div>"
            ],
            "text/plain": [
              "       race/ethnicity  ...      math score\n",
              "gender                 ...                \n",
              "female        group B  ...    (66.0, 77.0]\n",
              "female        group C  ...    (66.0, 77.0]\n",
              "female        group B  ...   (77.0, 100.0]\n",
              "male          group A  ...  (-0.001, 57.0]\n",
              "male          group C  ...    (66.0, 77.0]\n",
              "\n",
              "[5 rows x 8 columns]"
            ]
          },
          "metadata": {},
          "execution_count": 39
        }
      ]
    },
    {
      "cell_type": "markdown",
      "metadata": {
        "id": "TEUg6WoaGpGX"
      },
      "source": [
        "## Crear Nuevo DataFrame Con Generalizacion"
      ]
    },
    {
      "cell_type": "code",
      "metadata": {
        "id": "5t63M0ndC1a9",
        "colab": {
          "base_uri": "https://localhost:8080/"
        },
        "outputId": "92a90628-a543-4062-cb33-fa483153eebc"
      },
      "source": [
        "dfG = pd.DataFrame()"
      ],
      "execution_count": null,
      "outputs": [
        {
          "output_type": "stream",
          "name": "stdout",
          "text": [
            "<class 'pandas.core.frame.DataFrame'>\n",
            "Index: 0 entries\n",
            "Empty DataFrameNone\n"
          ]
        }
      ]
    },
    {
      "cell_type": "code",
      "metadata": {
        "id": "npP1gZalHDYf"
      },
      "source": [
        "dfG['math score'] = df['math score']\n",
        "dfG['reading score'] = df['reading score']\n",
        "dfG['writing score'] = df['writing score']"
      ],
      "execution_count": null,
      "outputs": []
    },
    {
      "cell_type": "code",
      "metadata": {
        "id": "iYrKyxOZHRJ5",
        "colab": {
          "base_uri": "https://localhost:8080/"
        },
        "outputId": "6cf4e0c1-5242-4e30-e1d7-fe509f51e975"
      },
      "source": [
        "dfG.head()"
      ],
      "execution_count": null,
      "outputs": [
        {
          "output_type": "stream",
          "name": "stdout",
          "text": [
            "<class 'pandas.core.frame.DataFrame'>\n",
            "Index: 0 entries\n",
            "Empty DataFrameNone\n"
          ]
        }
      ]
    },
    {
      "cell_type": "code",
      "metadata": {
        "id": "sYn30Q8PHSQy"
      },
      "source": [
        ""
      ],
      "execution_count": null,
      "outputs": []
    }
  ]
}